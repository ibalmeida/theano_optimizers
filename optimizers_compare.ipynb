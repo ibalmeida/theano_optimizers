{
 "cells": [
  {
   "cell_type": "code",
   "execution_count": 1,
   "metadata": {
    "collapsed": false
   },
   "outputs": [],
   "source": [
    "import matplotlib\n",
    "import matplotlib.pyplot as plt\n",
    "import matplotlib.animation as animation\n",
    "import numpy as np\n",
    "import theano\n",
    "import theano.tensor as T\n",
    "from utils import optimizers"
   ]
  },
  {
   "cell_type": "code",
   "execution_count": 2,
   "metadata": {
    "collapsed": true
   },
   "outputs": [],
   "source": [
    "# Constants\n",
    "X0 = -.5\n",
    "Y0 = -3.\n",
    "STR_XY = \"iter: {0:2d}, cost = {1:.2f}, (x, y) = ({2:5.2f}, {3:5.2f})\""
   ]
  },
  {
   "cell_type": "code",
   "execution_count": 3,
   "metadata": {
    "collapsed": false
   },
   "outputs": [],
   "source": [
    "# PARAMETERS\n",
    "# naive guess of the minimum location\n",
    "x = theano.shared(X0, name='x')\n",
    "y = theano.shared(Y0, name='y')"
   ]
  },
  {
   "cell_type": "code",
   "execution_count": 4,
   "metadata": {
    "collapsed": false
   },
   "outputs": [],
   "source": [
    "# COST FUNCTION\n",
    "# pick quadratic for simple example/debugging,\n",
    "# Rosen's function for more interesting convergence analysis\n",
    "\n",
    "# global minimum = (0, 0)\n",
    "quad = x**2 + y**2\n",
    "\n",
    "# global minimum = (1, 1)\n",
    "rosen = (1 - x)**2 + 100. * (y - x**2)**2\n",
    "\n",
    "# pick the cost function.\n",
    "cost = rosen"
   ]
  },
  {
   "cell_type": "code",
   "execution_count": 5,
   "metadata": {
    "collapsed": false
   },
   "outputs": [],
   "source": [
    "# OPTIMIZER\n",
    "# pick the optimization method and some meta parameters\n",
    "eta = 0.05\n",
    "opt_sgd = optimizers.sgd(cost, [x, y], learning_rate=eta)\n",
    "opt_rmsprop = optimizers.rmsprop(cost, [x, y], learning_rate=eta)\n",
    "opt_adagrad = optimizers.adagrad(cost, [x, y], learning_rate=eta)\n",
    "opt_adam = optimizers.adam(cost, [x, y], learning_rate=eta)"
   ]
  },
  {
   "cell_type": "code",
   "execution_count": 6,
   "metadata": {
    "collapsed": true
   },
   "outputs": [],
   "source": [
    "# OPTIMIZE FUNCTION\n",
    "# Given the following:\n",
    "# - cost function,\n",
    "# - parameters to the cost function,\n",
    "# - an optimizer\n",
    "# Return an array with shape (n_iter + 1, 3)\n",
    "# Whose columns represent cost, x, and y\n",
    "NUM_ITER = 1000\n",
    "\n",
    "def optimize(cost, x, y, updates):\n",
    "    f_cost = theano.function([], cost)\n",
    "    train = theano.function(\n",
    "        inputs=[],\n",
    "        outputs=cost,\n",
    "        updates=updates)\n",
    "    \n",
    "    cost_x_y = np.zeros((NUM_ITER + 1, 3))\n",
    "    cost_x_y[0, 0] = float(f_cost())\n",
    "    cost_x_y[0, 1] = float(x.get_value())\n",
    "    cost_x_y[0, 2] = float(y.get_value())\n",
    "    \n",
    "    for epoch in range(NUM_ITER):\n",
    "        train()\n",
    "        cost_x_y[epoch + 1, 0] = float(f_cost())\n",
    "        cost_x_y[epoch + 1, 1] = float(x.get_value())\n",
    "        cost_x_y[epoch + 1, 2] = float(y.get_value())\n",
    "        \n",
    "    return cost_x_y"
   ]
  },
  {
   "cell_type": "code",
   "execution_count": 7,
   "metadata": {
    "collapsed": false
   },
   "outputs": [],
   "source": [
    "# USE EACH OPTIMIZER\n",
    "plot_data = []\n",
    "for opt in [opt_sgd, opt_rmsprop, opt_adagrad, opt_adam]:\n",
    "    x.set_value(X0)\n",
    "    y.set_value(Y0)\n",
    "    plot_data.append(\n",
    "        optimize(cost, x, y, opt, )\n",
    "    )"
   ]
  },
  {
   "cell_type": "code",
   "execution_count": 8,
   "metadata": {
    "collapsed": true
   },
   "outputs": [],
   "source": [
    "# PREPARING COST FUNCTION'S LEVEL CURVES\n",
    "x_grid = np.arange(-5.0, 5.0, 0.05)\n",
    "y_grid = np.arange(-5.0, 5.0, 0.05)\n",
    "X, Y = np.meshgrid(x_grid, y_grid)\n",
    "#Z = X**2 + Y**2\n",
    "Z = (1 - X)**2 + 100. * (Y - X**2)**2"
   ]
  },
  {
   "cell_type": "code",
   "execution_count": 9,
   "metadata": {
    "collapsed": false
   },
   "outputs": [
    {
     "data": {
      "image/png": "[encoded data removed]",
      "text/plain": [
       "<matplotlib.figure.Figure at 0x10ccdb6d0>"
      ]
     },
     "metadata": {},
     "output_type": "display_data"
    }
   ],
   "source": [
    "# PLOT\n",
    "# plot the evolution of the minimum estimate\n",
    "# together with the functions level curves\n",
    "%matplotlib inline\n",
    "fig = plt.figure()\n",
    "plt.axes(xlim=(-1.5, 1.5), ylim=(-4, 4))\n",
    "\n",
    "plt.contour(X, Y, Z,\n",
    "           colors='lightgray', levels=np.logspace(-1, 4, 8))\n",
    "\n",
    "handlers = []\n",
    "for data, name in zip(plot_data, ['sgd', 'rmsprop', 'adagrad', 'adam']):\n",
    "    line, = plt.plot(data[:, 1], data[:, 2], '-', label=name)\n",
    "    handlers.append(line)\n",
    "\n",
    "plt.legend(handles=handlers) \n",
    "plt.show()"
   ]
  },
  {
   "cell_type": "code",
   "execution_count": null,
   "metadata": {
    "collapsed": true
   },
   "outputs": [],
   "source": []
  }
 ],
 "metadata": {
  "kernelspec": {
   "display_name": "Python 2",
   "language": "python",
   "name": "python2"
  },
  "language_info": {
   "codemirror_mode": {
    "name": "ipython",
    "version": 2
   },
   "file_extension": ".py",
   "mimetype": "text/x-python",
   "name": "python",
   "nbconvert_exporter": "python",
   "pygments_lexer": "ipython2",
   "version": "2.7.6"
  }
 },
 "nbformat": 4,
 "nbformat_minor": 0
}
